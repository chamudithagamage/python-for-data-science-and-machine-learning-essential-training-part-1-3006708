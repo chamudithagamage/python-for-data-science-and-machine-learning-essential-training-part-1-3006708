{
 "cells": [
  {
   "cell_type": "markdown",
   "metadata": {},
   "source": [
    "## Data Filtering and Selection"
   ]
  },
  {
   "cell_type": "code",
   "execution_count": 1,
   "id": "bbba446d",
   "metadata": {},
   "outputs": [
    {
     "name": "stdout",
     "output_type": "stream",
     "text": [
      "Requirement already satisfied: pandas in /home/codespace/.local/lib/python3.12/site-packages (2.2.3)\n",
      "Requirement already satisfied: numpy>=1.26.0 in /home/codespace/.local/lib/python3.12/site-packages (from pandas) (2.2.4)\n",
      "Requirement already satisfied: python-dateutil>=2.8.2 in /home/codespace/.local/lib/python3.12/site-packages (from pandas) (2.9.0.post0)\n",
      "Requirement already satisfied: pytz>=2020.1 in /home/codespace/.local/lib/python3.12/site-packages (from pandas) (2025.1)\n",
      "Requirement already satisfied: tzdata>=2022.7 in /home/codespace/.local/lib/python3.12/site-packages (from pandas) (2025.1)\n",
      "Requirement already satisfied: six>=1.5 in /home/codespace/.local/lib/python3.12/site-packages (from python-dateutil>=2.8.2->pandas) (1.17.0)\n",
      "\n",
      "\u001b[1m[\u001b[0m\u001b[34;49mnotice\u001b[0m\u001b[1;39;49m]\u001b[0m\u001b[39;49m A new release of pip is available: \u001b[0m\u001b[31;49m25.0.1\u001b[0m\u001b[39;49m -> \u001b[0m\u001b[32;49m25.1.1\u001b[0m\n",
      "\u001b[1m[\u001b[0m\u001b[34;49mnotice\u001b[0m\u001b[1;39;49m]\u001b[0m\u001b[39;49m To update, run: \u001b[0m\u001b[32;49mpython -m pip install --upgrade pip\u001b[0m\n",
      "Note: you may need to restart the kernel to use updated packages.\n"
     ]
    }
   ],
   "source": [
    "pip install pandas\n"
   ]
  },
  {
   "cell_type": "code",
   "execution_count": 2,
   "id": "a2fda775",
   "metadata": {},
   "outputs": [],
   "source": [
    "import pandas as pd\n",
    "import numpy as np\n",
    "\n",
    "from pandas import DataFrame"
   ]
  },
  {
   "cell_type": "code",
   "execution_count": 3,
   "id": "2e34c228",
   "metadata": {},
   "outputs": [],
   "source": [
    "# numbers dataframe obj\n",
    "numbers_df = DataFrame(np.arange(0,90,3).reshape(10,3),\n",
    "index =['row 1','row 2','row 3','row 4','row 5','row 6','row 7','row 8','row 9','row 10'] \n",
    ",columns = ['column 1', 'column 2', 'column 3'])"
   ]
  },
  {
   "cell_type": "code",
   "execution_count": 4,
   "id": "824dd92e",
   "metadata": {},
   "outputs": [
    {
     "name": "stdout",
     "output_type": "stream",
     "text": [
      "        column 1  column 2  column 3\n",
      "row 1          0         3         6\n",
      "row 2          9        12        15\n",
      "row 3         18        21        24\n",
      "row 4         27        30        33\n",
      "row 5         36        39        42\n",
      "row 6         45        48        51\n",
      "row 7         54        57        60\n",
      "row 8         63        66        69\n",
      "row 9         72        75        78\n",
      "row 10        81        84        87\n"
     ]
    }
   ],
   "source": [
    "print(numbers_df)"
   ]
  },
  {
   "cell_type": "code",
   "execution_count": 5,
   "id": "443566cd",
   "metadata": {},
   "outputs": [
    {
     "ename": "TypeError",
     "evalue": "unhashable type: 'list'",
     "output_type": "error",
     "traceback": [
      "\u001b[31m---------------------------------------------------------------------------\u001b[39m",
      "\u001b[31mTypeError\u001b[39m                                 Traceback (most recent call last)",
      "\u001b[32m/tmp/ipykernel_4269/1897332580.py\u001b[39m in \u001b[36m?\u001b[39m\u001b[34m()\u001b[39m\n\u001b[32m----> \u001b[39m\u001b[32m1\u001b[39m numbers_df.iloc([\u001b[32m0\u001b[39m,\u001b[32m1\u001b[39m])\n",
      "\u001b[32m~/.local/lib/python3.12/site-packages/pandas/core/indexing.py\u001b[39m in \u001b[36m?\u001b[39m\u001b[34m(self, axis)\u001b[39m\n\u001b[32m    734\u001b[39m         \u001b[38;5;66;03m# we need to return a copy of ourselves\u001b[39;00m\n\u001b[32m    735\u001b[39m         new_self = type(self)(self.name, self.obj)\n\u001b[32m    736\u001b[39m \n\u001b[32m    737\u001b[39m         \u001b[38;5;28;01mif\u001b[39;00m axis \u001b[38;5;28;01mis\u001b[39;00m \u001b[38;5;28;01mnot\u001b[39;00m \u001b[38;5;28;01mNone\u001b[39;00m:\n\u001b[32m--> \u001b[39m\u001b[32m738\u001b[39m             axis_int_none = self.obj._get_axis_number(axis)\n\u001b[32m    739\u001b[39m         \u001b[38;5;28;01melse\u001b[39;00m:\n\u001b[32m    740\u001b[39m             axis_int_none = axis\n\u001b[32m    741\u001b[39m         new_self.axis = axis_int_none\n",
      "\u001b[32m~/.local/lib/python3.12/site-packages/pandas/core/generic.py\u001b[39m in \u001b[36m?\u001b[39m\u001b[34m(cls, axis)\u001b[39m\n\u001b[32m    573\u001b[39m     @classmethod\n\u001b[32m    574\u001b[39m     \u001b[38;5;28;01mdef\u001b[39;00m _get_axis_number(cls, axis: Axis) -> AxisInt:\n\u001b[32m    575\u001b[39m         \u001b[38;5;28;01mtry\u001b[39;00m:\n\u001b[32m    576\u001b[39m             \u001b[38;5;28;01mreturn\u001b[39;00m cls._AXIS_TO_AXIS_NUMBER[axis]\n\u001b[32m--> \u001b[39m\u001b[32m577\u001b[39m         \u001b[38;5;28;01mexcept\u001b[39;00m KeyError:\n\u001b[32m    578\u001b[39m             \u001b[38;5;28;01mraise\u001b[39;00m ValueError(f\"No axis named {axis} for object type {cls.__name__}\")\n",
      "\u001b[31mTypeError\u001b[39m: unhashable type: 'list'"
     ]
    }
   ],
   "source": [
    "numbers_df.iloc([0,1])"
   ]
  },
  {
   "cell_type": "code",
   "execution_count": 6,
   "id": "4e7c6fd3",
   "metadata": {},
   "outputs": [
    {
     "data": {
      "text/plain": [
       "np.int64(3)"
      ]
     },
     "execution_count": 6,
     "metadata": {},
     "output_type": "execute_result"
    }
   ],
   "source": [
    "numbers_df.iloc[0,1]"
   ]
  },
  {
   "cell_type": "code",
   "execution_count": 7,
   "id": "9e6d3313",
   "metadata": {},
   "outputs": [
    {
     "name": "stdout",
     "output_type": "stream",
     "text": [
      "3\n"
     ]
    }
   ],
   "source": [
    "print(numbers_df.iloc[0,1])"
   ]
  },
  {
   "cell_type": "code",
   "execution_count": 8,
   "id": "f26bdecb",
   "metadata": {},
   "outputs": [
    {
     "name": "stdout",
     "output_type": "stream",
     "text": [
      "60\n"
     ]
    }
   ],
   "source": [
    "print(numbers_df.iloc[6,2])"
   ]
  },
  {
   "cell_type": "code",
   "execution_count": 9,
   "id": "073ee3a7",
   "metadata": {},
   "outputs": [
    {
     "name": "stdout",
     "output_type": "stream",
     "text": [
      "        column 1  column 2  column 3\n",
      "row 1          0        20         6\n",
      "row 2          9        12        15\n",
      "row 3         18        21        24\n",
      "row 4         27        30        33\n",
      "row 5         36        39        42\n",
      "row 6         45        48        51\n",
      "row 7         54        57        60\n",
      "row 8         63        66        69\n",
      "row 9         72        75        78\n",
      "row 10        81        84        87\n"
     ]
    }
   ],
   "source": [
    "numbers_df.iloc[0,1] = 20\n",
    "print(numbers_df)"
   ]
  },
  {
   "cell_type": "code",
   "execution_count": 10,
   "id": "e3c2e4bf",
   "metadata": {},
   "outputs": [
    {
     "name": "stdout",
     "output_type": "stream",
     "text": [
      "       column 2  column 3\n",
      "row 2        12        15\n",
      "row 3        21        24\n",
      "row 5        39        42\n"
     ]
    }
   ],
   "source": [
    "print(numbers_df.iloc[[1,2,4],[1,2]])"
   ]
  },
  {
   "cell_type": "code",
   "execution_count": 11,
   "id": "4f69cae5",
   "metadata": {},
   "outputs": [
    {
     "ename": "IndexError",
     "evalue": "index 3 is out of bounds for axis 0 with size 3",
     "output_type": "error",
     "traceback": [
      "\u001b[31m---------------------------------------------------------------------------\u001b[39m",
      "\u001b[31mIndexError\u001b[39m                                Traceback (most recent call last)",
      "\u001b[36mCell\u001b[39m\u001b[36m \u001b[39m\u001b[32mIn[11]\u001b[39m\u001b[32m, line 1\u001b[39m\n\u001b[32m----> \u001b[39m\u001b[32m1\u001b[39m \u001b[38;5;28mprint\u001b[39m(\u001b[43mnumbers_df\u001b[49m\u001b[43m.\u001b[49m\u001b[43miloc\u001b[49m\u001b[43m[\u001b[49m\u001b[32;43m1\u001b[39;49m\u001b[43m,\u001b[49m\u001b[32;43m3\u001b[39;49m\u001b[43m]\u001b[49m)\n",
      "\u001b[36mFile \u001b[39m\u001b[32m~/.local/lib/python3.12/site-packages/pandas/core/indexing.py:1183\u001b[39m, in \u001b[36m_LocationIndexer.__getitem__\u001b[39m\u001b[34m(self, key)\u001b[39m\n\u001b[32m   1181\u001b[39m     key = \u001b[38;5;28mtuple\u001b[39m(com.apply_if_callable(x, \u001b[38;5;28mself\u001b[39m.obj) \u001b[38;5;28;01mfor\u001b[39;00m x \u001b[38;5;129;01min\u001b[39;00m key)\n\u001b[32m   1182\u001b[39m     \u001b[38;5;28;01mif\u001b[39;00m \u001b[38;5;28mself\u001b[39m._is_scalar_access(key):\n\u001b[32m-> \u001b[39m\u001b[32m1183\u001b[39m         \u001b[38;5;28;01mreturn\u001b[39;00m \u001b[38;5;28;43mself\u001b[39;49m\u001b[43m.\u001b[49m\u001b[43mobj\u001b[49m\u001b[43m.\u001b[49m\u001b[43m_get_value\u001b[49m\u001b[43m(\u001b[49m\u001b[43m*\u001b[49m\u001b[43mkey\u001b[49m\u001b[43m,\u001b[49m\u001b[43m \u001b[49m\u001b[43mtakeable\u001b[49m\u001b[43m=\u001b[49m\u001b[38;5;28;43mself\u001b[39;49m\u001b[43m.\u001b[49m\u001b[43m_takeable\u001b[49m\u001b[43m)\u001b[49m\n\u001b[32m   1184\u001b[39m     \u001b[38;5;28;01mreturn\u001b[39;00m \u001b[38;5;28mself\u001b[39m._getitem_tuple(key)\n\u001b[32m   1185\u001b[39m \u001b[38;5;28;01melse\u001b[39;00m:\n\u001b[32m   1186\u001b[39m     \u001b[38;5;66;03m# we by definition only have the 0th axis\u001b[39;00m\n",
      "\u001b[36mFile \u001b[39m\u001b[32m~/.local/lib/python3.12/site-packages/pandas/core/frame.py:4211\u001b[39m, in \u001b[36mDataFrame._get_value\u001b[39m\u001b[34m(self, index, col, takeable)\u001b[39m\n\u001b[32m   4192\u001b[39m \u001b[38;5;250m\u001b[39m\u001b[33;03m\"\"\"\u001b[39;00m\n\u001b[32m   4193\u001b[39m \u001b[33;03mQuickly retrieve single value at passed column and index.\u001b[39;00m\n\u001b[32m   4194\u001b[39m \n\u001b[32m   (...)\u001b[39m\u001b[32m   4208\u001b[39m \u001b[33;03m`self.columns._index_as_unique`; Caller is responsible for checking.\u001b[39;00m\n\u001b[32m   4209\u001b[39m \u001b[33;03m\"\"\"\u001b[39;00m\n\u001b[32m   4210\u001b[39m \u001b[38;5;28;01mif\u001b[39;00m takeable:\n\u001b[32m-> \u001b[39m\u001b[32m4211\u001b[39m     series = \u001b[38;5;28;43mself\u001b[39;49m\u001b[43m.\u001b[49m\u001b[43m_ixs\u001b[49m\u001b[43m(\u001b[49m\u001b[43mcol\u001b[49m\u001b[43m,\u001b[49m\u001b[43m \u001b[49m\u001b[43maxis\u001b[49m\u001b[43m=\u001b[49m\u001b[32;43m1\u001b[39;49m\u001b[43m)\u001b[49m\n\u001b[32m   4212\u001b[39m     \u001b[38;5;28;01mreturn\u001b[39;00m series._values[index]\n\u001b[32m   4214\u001b[39m series = \u001b[38;5;28mself\u001b[39m._get_item_cache(col)\n",
      "\u001b[36mFile \u001b[39m\u001b[32m~/.local/lib/python3.12/site-packages/pandas/core/frame.py:4008\u001b[39m, in \u001b[36mDataFrame._ixs\u001b[39m\u001b[34m(self, i, axis)\u001b[39m\n\u001b[32m   4004\u001b[39m     \u001b[38;5;28;01mreturn\u001b[39;00m result\n\u001b[32m   4006\u001b[39m \u001b[38;5;66;03m# icol\u001b[39;00m\n\u001b[32m   4007\u001b[39m \u001b[38;5;28;01melse\u001b[39;00m:\n\u001b[32m-> \u001b[39m\u001b[32m4008\u001b[39m     label = \u001b[38;5;28;43mself\u001b[39;49m\u001b[43m.\u001b[49m\u001b[43mcolumns\u001b[49m\u001b[43m[\u001b[49m\u001b[43mi\u001b[49m\u001b[43m]\u001b[49m\n\u001b[32m   4010\u001b[39m     col_mgr = \u001b[38;5;28mself\u001b[39m._mgr.iget(i)\n\u001b[32m   4011\u001b[39m     result = \u001b[38;5;28mself\u001b[39m._box_col_values(col_mgr, i)\n",
      "\u001b[36mFile \u001b[39m\u001b[32m~/.local/lib/python3.12/site-packages/pandas/core/indexes/base.py:5389\u001b[39m, in \u001b[36mIndex.__getitem__\u001b[39m\u001b[34m(self, key)\u001b[39m\n\u001b[32m   5386\u001b[39m \u001b[38;5;28;01mif\u001b[39;00m is_integer(key) \u001b[38;5;129;01mor\u001b[39;00m is_float(key):\n\u001b[32m   5387\u001b[39m     \u001b[38;5;66;03m# GH#44051 exclude bool, which would return a 2d ndarray\u001b[39;00m\n\u001b[32m   5388\u001b[39m     key = com.cast_scalar_indexer(key)\n\u001b[32m-> \u001b[39m\u001b[32m5389\u001b[39m     \u001b[38;5;28;01mreturn\u001b[39;00m \u001b[43mgetitem\u001b[49m\u001b[43m(\u001b[49m\u001b[43mkey\u001b[49m\u001b[43m)\u001b[49m\n\u001b[32m   5391\u001b[39m \u001b[38;5;28;01mif\u001b[39;00m \u001b[38;5;28misinstance\u001b[39m(key, \u001b[38;5;28mslice\u001b[39m):\n\u001b[32m   5392\u001b[39m     \u001b[38;5;66;03m# This case is separated from the conditional above to avoid\u001b[39;00m\n\u001b[32m   5393\u001b[39m     \u001b[38;5;66;03m# pessimization com.is_bool_indexer and ndim checks.\u001b[39;00m\n\u001b[32m   5394\u001b[39m     \u001b[38;5;28;01mreturn\u001b[39;00m \u001b[38;5;28mself\u001b[39m._getitem_slice(key)\n",
      "\u001b[31mIndexError\u001b[39m: index 3 is out of bounds for axis 0 with size 3"
     ]
    }
   ],
   "source": [
    "print(numbers_df.iloc[1,3])"
   ]
  },
  {
   "cell_type": "code",
   "execution_count": 12,
   "id": "ec6e07f8",
   "metadata": {},
   "outputs": [
    {
     "name": "stdout",
     "output_type": "stream",
     "text": [
      "33\n"
     ]
    }
   ],
   "source": [
    "print(numbers_df.iloc[3,2])"
   ]
  },
  {
   "cell_type": "code",
   "execution_count": 13,
   "id": "eaf9eb0f",
   "metadata": {},
   "outputs": [
    {
     "name": "stdout",
     "output_type": "stream",
     "text": [
      "        column 1  column 2\n",
      "row 6         45        48\n",
      "row 5         36        39\n",
      "row 10        81        84\n",
      "row 3         18        21\n"
     ]
    }
   ],
   "source": [
    "print(numbers_df.iloc[[5,4,9,2],[0,1]])"
   ]
  },
  {
   "cell_type": "code",
   "execution_count": 14,
   "id": "16ee1bf7",
   "metadata": {},
   "outputs": [],
   "source": [
    "mask = numbers_df > 25"
   ]
  },
  {
   "cell_type": "code",
   "execution_count": 15,
   "id": "796836ba",
   "metadata": {},
   "outputs": [
    {
     "name": "stdout",
     "output_type": "stream",
     "text": [
      "        column 1  column 2  column 3\n",
      "row 1      False     False     False\n",
      "row 2      False     False     False\n",
      "row 3      False     False     False\n",
      "row 4       True      True      True\n",
      "row 5       True      True      True\n",
      "row 6       True      True      True\n",
      "row 7       True      True      True\n",
      "row 8       True      True      True\n",
      "row 9       True      True      True\n",
      "row 10      True      True      True\n"
     ]
    }
   ],
   "source": [
    "print(mask)"
   ]
  },
  {
   "cell_type": "code",
   "execution_count": 16,
   "id": "62c4d9b3",
   "metadata": {},
   "outputs": [
    {
     "ename": "ValueError",
     "evalue": "The truth value of a DataFrame is ambiguous. Use a.empty, a.bool(), a.item(), a.any() or a.all().",
     "output_type": "error",
     "traceback": [
      "\u001b[31m---------------------------------------------------------------------------\u001b[39m",
      "\u001b[31mValueError\u001b[39m                                Traceback (most recent call last)",
      "\u001b[32m/tmp/ipykernel_4269/1526703636.py\u001b[39m in \u001b[36m?\u001b[39m\u001b[34m()\u001b[39m\n\u001b[32m----> \u001b[39m\u001b[32m1\u001b[39m mask = \u001b[32m70\u001b[39m > numbers_df > \u001b[32m30\u001b[39m\n\u001b[32m      2\u001b[39m print(mask)\n",
      "\u001b[32m~/.local/lib/python3.12/site-packages/pandas/core/generic.py\u001b[39m in \u001b[36m?\u001b[39m\u001b[34m(self)\u001b[39m\n\u001b[32m   1575\u001b[39m     @final\n\u001b[32m   1576\u001b[39m     \u001b[38;5;28;01mdef\u001b[39;00m __nonzero__(self) -> NoReturn:\n\u001b[32m-> \u001b[39m\u001b[32m1577\u001b[39m         raise ValueError(\n\u001b[32m   1578\u001b[39m             f\"The truth value of a {type(self).__name__} is ambiguous. \"\n\u001b[32m   1579\u001b[39m             \u001b[33m\"Use a.empty, a.bool(), a.item(), a.any() or a.all().\"\u001b[39m\n\u001b[32m   1580\u001b[39m         )\n",
      "\u001b[31mValueError\u001b[39m: The truth value of a DataFrame is ambiguous. Use a.empty, a.bool(), a.item(), a.any() or a.all()."
     ]
    }
   ],
   "source": [
    "mask = 70 > numbers_df > 30\n",
    "print(mask)"
   ]
  },
  {
   "cell_type": "code",
   "execution_count": 17,
   "id": "a6781a59",
   "metadata": {},
   "outputs": [
    {
     "name": "stdout",
     "output_type": "stream",
     "text": [
      "        column 1  column 2  column 3\n",
      "row 1      False     False     False\n",
      "row 2      False     False     False\n",
      "row 3      False     False     False\n",
      "row 4       True      True      True\n",
      "row 5       True      True      True\n",
      "row 6       True      True      True\n",
      "row 7       True      True      True\n",
      "row 8       True      True      True\n",
      "row 9       True      True      True\n",
      "row 10      True      True      True\n"
     ]
    }
   ],
   "source": [
    "print(mask)"
   ]
  },
  {
   "cell_type": "code",
   "execution_count": 18,
   "id": "f45e6520",
   "metadata": {},
   "outputs": [
    {
     "data": {
      "text/html": [
       "<div>\n",
       "<style scoped>\n",
       "    .dataframe tbody tr th:only-of-type {\n",
       "        vertical-align: middle;\n",
       "    }\n",
       "\n",
       "    .dataframe tbody tr th {\n",
       "        vertical-align: top;\n",
       "    }\n",
       "\n",
       "    .dataframe thead th {\n",
       "        text-align: right;\n",
       "    }\n",
       "</style>\n",
       "<table border=\"1\" class=\"dataframe\">\n",
       "  <thead>\n",
       "    <tr style=\"text-align: right;\">\n",
       "      <th></th>\n",
       "      <th>column 1</th>\n",
       "      <th>column 2</th>\n",
       "      <th>column 3</th>\n",
       "    </tr>\n",
       "  </thead>\n",
       "  <tbody>\n",
       "    <tr>\n",
       "      <th>row 1</th>\n",
       "      <td>NaN</td>\n",
       "      <td>NaN</td>\n",
       "      <td>NaN</td>\n",
       "    </tr>\n",
       "    <tr>\n",
       "      <th>row 2</th>\n",
       "      <td>NaN</td>\n",
       "      <td>NaN</td>\n",
       "      <td>NaN</td>\n",
       "    </tr>\n",
       "    <tr>\n",
       "      <th>row 3</th>\n",
       "      <td>NaN</td>\n",
       "      <td>NaN</td>\n",
       "      <td>NaN</td>\n",
       "    </tr>\n",
       "    <tr>\n",
       "      <th>row 4</th>\n",
       "      <td>27.0</td>\n",
       "      <td>30.0</td>\n",
       "      <td>33.0</td>\n",
       "    </tr>\n",
       "    <tr>\n",
       "      <th>row 5</th>\n",
       "      <td>36.0</td>\n",
       "      <td>39.0</td>\n",
       "      <td>42.0</td>\n",
       "    </tr>\n",
       "    <tr>\n",
       "      <th>row 6</th>\n",
       "      <td>45.0</td>\n",
       "      <td>48.0</td>\n",
       "      <td>51.0</td>\n",
       "    </tr>\n",
       "    <tr>\n",
       "      <th>row 7</th>\n",
       "      <td>54.0</td>\n",
       "      <td>57.0</td>\n",
       "      <td>60.0</td>\n",
       "    </tr>\n",
       "    <tr>\n",
       "      <th>row 8</th>\n",
       "      <td>63.0</td>\n",
       "      <td>66.0</td>\n",
       "      <td>69.0</td>\n",
       "    </tr>\n",
       "    <tr>\n",
       "      <th>row 9</th>\n",
       "      <td>72.0</td>\n",
       "      <td>75.0</td>\n",
       "      <td>78.0</td>\n",
       "    </tr>\n",
       "    <tr>\n",
       "      <th>row 10</th>\n",
       "      <td>81.0</td>\n",
       "      <td>84.0</td>\n",
       "      <td>87.0</td>\n",
       "    </tr>\n",
       "  </tbody>\n",
       "</table>\n",
       "</div>"
      ],
      "text/plain": [
       "        column 1  column 2  column 3\n",
       "row 1        NaN       NaN       NaN\n",
       "row 2        NaN       NaN       NaN\n",
       "row 3        NaN       NaN       NaN\n",
       "row 4       27.0      30.0      33.0\n",
       "row 5       36.0      39.0      42.0\n",
       "row 6       45.0      48.0      51.0\n",
       "row 7       54.0      57.0      60.0\n",
       "row 8       63.0      66.0      69.0\n",
       "row 9       72.0      75.0      78.0\n",
       "row 10      81.0      84.0      87.0"
      ]
     },
     "execution_count": 18,
     "metadata": {},
     "output_type": "execute_result"
    }
   ],
   "source": [
    "numbers_df[mask]"
   ]
  },
  {
   "cell_type": "code",
   "execution_count": 19,
   "id": "2125cb48",
   "metadata": {},
   "outputs": [
    {
     "data": {
      "text/html": [
       "<div>\n",
       "<style scoped>\n",
       "    .dataframe tbody tr th:only-of-type {\n",
       "        vertical-align: middle;\n",
       "    }\n",
       "\n",
       "    .dataframe tbody tr th {\n",
       "        vertical-align: top;\n",
       "    }\n",
       "\n",
       "    .dataframe thead th {\n",
       "        text-align: right;\n",
       "    }\n",
       "</style>\n",
       "<table border=\"1\" class=\"dataframe\">\n",
       "  <thead>\n",
       "    <tr style=\"text-align: right;\">\n",
       "      <th></th>\n",
       "      <th>column 1</th>\n",
       "      <th>column 2</th>\n",
       "      <th>column 3</th>\n",
       "    </tr>\n",
       "  </thead>\n",
       "  <tbody>\n",
       "    <tr>\n",
       "      <th>row 1</th>\n",
       "      <td>NaN</td>\n",
       "      <td>NaN</td>\n",
       "      <td>NaN</td>\n",
       "    </tr>\n",
       "    <tr>\n",
       "      <th>row 2</th>\n",
       "      <td>NaN</td>\n",
       "      <td>NaN</td>\n",
       "      <td>NaN</td>\n",
       "    </tr>\n",
       "    <tr>\n",
       "      <th>row 3</th>\n",
       "      <td>NaN</td>\n",
       "      <td>NaN</td>\n",
       "      <td>NaN</td>\n",
       "    </tr>\n",
       "    <tr>\n",
       "      <th>row 4</th>\n",
       "      <td>NaN</td>\n",
       "      <td>NaN</td>\n",
       "      <td>NaN</td>\n",
       "    </tr>\n",
       "    <tr>\n",
       "      <th>row 5</th>\n",
       "      <td>NaN</td>\n",
       "      <td>NaN</td>\n",
       "      <td>NaN</td>\n",
       "    </tr>\n",
       "    <tr>\n",
       "      <th>row 6</th>\n",
       "      <td>NaN</td>\n",
       "      <td>NaN</td>\n",
       "      <td>51.0</td>\n",
       "    </tr>\n",
       "    <tr>\n",
       "      <th>row 7</th>\n",
       "      <td>54.0</td>\n",
       "      <td>57.0</td>\n",
       "      <td>60.0</td>\n",
       "    </tr>\n",
       "    <tr>\n",
       "      <th>row 8</th>\n",
       "      <td>63.0</td>\n",
       "      <td>66.0</td>\n",
       "      <td>69.0</td>\n",
       "    </tr>\n",
       "    <tr>\n",
       "      <th>row 9</th>\n",
       "      <td>72.0</td>\n",
       "      <td>75.0</td>\n",
       "      <td>78.0</td>\n",
       "    </tr>\n",
       "    <tr>\n",
       "      <th>row 10</th>\n",
       "      <td>81.0</td>\n",
       "      <td>84.0</td>\n",
       "      <td>87.0</td>\n",
       "    </tr>\n",
       "  </tbody>\n",
       "</table>\n",
       "</div>"
      ],
      "text/plain": [
       "        column 1  column 2  column 3\n",
       "row 1        NaN       NaN       NaN\n",
       "row 2        NaN       NaN       NaN\n",
       "row 3        NaN       NaN       NaN\n",
       "row 4        NaN       NaN       NaN\n",
       "row 5        NaN       NaN       NaN\n",
       "row 6        NaN       NaN      51.0\n",
       "row 7       54.0      57.0      60.0\n",
       "row 8       63.0      66.0      69.0\n",
       "row 9       72.0      75.0      78.0\n",
       "row 10      81.0      84.0      87.0"
      ]
     },
     "execution_count": 19,
     "metadata": {},
     "output_type": "execute_result"
    }
   ],
   "source": [
    "numbers_df[numbers_df > 50]"
   ]
  },
  {
   "cell_type": "code",
   "execution_count": 20,
   "id": "2d9cb568",
   "metadata": {},
   "outputs": [
    {
     "name": "stdout",
     "output_type": "stream",
     "text": [
      "        column 1  column 2  column 3\n",
      "row 1      False     False     False\n",
      "row 2      False     False     False\n",
      "row 3      False     False     False\n",
      "row 4       True      True      True\n",
      "row 5       True      True      True\n",
      "row 6       True      True      True\n",
      "row 7       True      True      True\n",
      "row 8       True      True      True\n",
      "row 9       True      True      True\n",
      "row 10      True      True      True\n"
     ]
    }
   ],
   "source": [
    "print(mask)"
   ]
  },
  {
   "cell_type": "code",
   "execution_count": 21,
   "id": "7dcaea43",
   "metadata": {},
   "outputs": [],
   "source": [
    "mask = numbers_df < 70"
   ]
  },
  {
   "cell_type": "code",
   "execution_count": 22,
   "id": "c49829f3",
   "metadata": {},
   "outputs": [
    {
     "name": "stdout",
     "output_type": "stream",
     "text": [
      "        column 1  column 2  column 3\n",
      "row 1       True      True      True\n",
      "row 2       True      True      True\n",
      "row 3       True      True      True\n",
      "row 4       True      True      True\n",
      "row 5       True      True      True\n",
      "row 6       True      True      True\n",
      "row 7       True      True      True\n",
      "row 8       True      True      True\n",
      "row 9      False     False     False\n",
      "row 10     False     False     False\n"
     ]
    }
   ],
   "source": [
    "print(mask)"
   ]
  },
  {
   "cell_type": "code",
   "execution_count": 23,
   "id": "02d3c483",
   "metadata": {},
   "outputs": [
    {
     "ename": "ValueError",
     "evalue": "The truth value of a DataFrame is ambiguous. Use a.empty, a.bool(), a.item(), a.any() or a.all().",
     "output_type": "error",
     "traceback": [
      "\u001b[31m---------------------------------------------------------------------------\u001b[39m",
      "\u001b[31mValueError\u001b[39m                                Traceback (most recent call last)",
      "\u001b[32m/tmp/ipykernel_4269/3719616328.py\u001b[39m in \u001b[36m?\u001b[39m\u001b[34m()\u001b[39m\n\u001b[32m----> \u001b[39m\u001b[32m1\u001b[39m mask = numbers_df > \u001b[32m30\u001b[39m & numbers_df < \u001b[32m70\u001b[39m\n\u001b[32m      2\u001b[39m print(mask)\n",
      "\u001b[32m~/.local/lib/python3.12/site-packages/pandas/core/generic.py\u001b[39m in \u001b[36m?\u001b[39m\u001b[34m(self)\u001b[39m\n\u001b[32m   1575\u001b[39m     @final\n\u001b[32m   1576\u001b[39m     \u001b[38;5;28;01mdef\u001b[39;00m __nonzero__(self) -> NoReturn:\n\u001b[32m-> \u001b[39m\u001b[32m1577\u001b[39m         raise ValueError(\n\u001b[32m   1578\u001b[39m             f\"The truth value of a {type(self).__name__} is ambiguous. \"\n\u001b[32m   1579\u001b[39m             \u001b[33m\"Use a.empty, a.bool(), a.item(), a.any() or a.all().\"\u001b[39m\n\u001b[32m   1580\u001b[39m         )\n",
      "\u001b[31mValueError\u001b[39m: The truth value of a DataFrame is ambiguous. Use a.empty, a.bool(), a.item(), a.any() or a.all()."
     ]
    }
   ],
   "source": [
    "mask = numbers_df > 30 & numbers_df < 70\n",
    "print(mask)"
   ]
  },
  {
   "cell_type": "code",
   "execution_count": 24,
   "id": "ae8e980a",
   "metadata": {},
   "outputs": [
    {
     "name": "stdout",
     "output_type": "stream",
     "text": [
      "        column 1  column 2  column 3\n",
      "row 1          0        20         6\n",
      "row 2          9        12        15\n",
      "row 3         18        21        24\n",
      "row 4         27        30        33\n",
      "row 5         36        39        42\n",
      "row 6         45        48         0\n",
      "row 7          0         0         0\n",
      "row 8          0         0         0\n",
      "row 9          0         0         0\n",
      "row 10         0         0         0\n"
     ]
    }
   ],
   "source": [
    "numbers_df[numbers_df > 50] = 0\n",
    "print(numbers_df)"
   ]
  },
  {
   "cell_type": "code",
   "execution_count": 25,
   "id": "0a3e1de3",
   "metadata": {},
   "outputs": [
    {
     "data": {
      "text/html": [
       "<div>\n",
       "<style scoped>\n",
       "    .dataframe tbody tr th:only-of-type {\n",
       "        vertical-align: middle;\n",
       "    }\n",
       "\n",
       "    .dataframe tbody tr th {\n",
       "        vertical-align: top;\n",
       "    }\n",
       "\n",
       "    .dataframe thead th {\n",
       "        text-align: right;\n",
       "    }\n",
       "</style>\n",
       "<table border=\"1\" class=\"dataframe\">\n",
       "  <thead>\n",
       "    <tr style=\"text-align: right;\">\n",
       "      <th></th>\n",
       "      <th>column 2</th>\n",
       "      <th>column 3</th>\n",
       "    </tr>\n",
       "  </thead>\n",
       "  <tbody>\n",
       "    <tr>\n",
       "      <th>row 4</th>\n",
       "      <td>30</td>\n",
       "      <td>33</td>\n",
       "    </tr>\n",
       "    <tr>\n",
       "      <th>row 5</th>\n",
       "      <td>39</td>\n",
       "      <td>42</td>\n",
       "    </tr>\n",
       "    <tr>\n",
       "      <th>row 6</th>\n",
       "      <td>48</td>\n",
       "      <td>0</td>\n",
       "    </tr>\n",
       "  </tbody>\n",
       "</table>\n",
       "</div>"
      ],
      "text/plain": [
       "       column 2  column 3\n",
       "row 4        30        33\n",
       "row 5        39        42\n",
       "row 6        48         0"
      ]
     },
     "execution_count": 25,
     "metadata": {},
     "output_type": "execute_result"
    }
   ],
   "source": [
    "numbers_df.iloc[3:6,1:3]"
   ]
  },
  {
   "cell_type": "code",
   "execution_count": null,
   "id": "ab6d4f27",
   "metadata": {},
   "outputs": [],
   "source": []
  }
 ],
 "metadata": {
  "kernelspec": {
   "display_name": "Python 3",
   "language": "python",
   "name": "python3"
  },
  "language_info": {
   "codemirror_mode": {
    "name": "ipython",
    "version": 3
   },
   "file_extension": ".py",
   "mimetype": "text/x-python",
   "name": "python",
   "nbconvert_exporter": "python",
   "pygments_lexer": "ipython3",
   "version": "3.12.1"
  }
 },
 "nbformat": 4,
 "nbformat_minor": 5
}
